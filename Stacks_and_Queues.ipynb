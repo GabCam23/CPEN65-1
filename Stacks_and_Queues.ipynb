{
  "nbformat": 4,
  "nbformat_minor": 0,
  "metadata": {
    "colab": {
      "provenance": [],
      "authorship_tag": "ABX9TyNHLi0Pf34Wijn7jAqUiZsR",
      "include_colab_link": true
    },
    "kernelspec": {
      "name": "python3",
      "display_name": "Python 3"
    },
    "language_info": {
      "name": "python"
    }
  },
  "cells": [
    {
      "cell_type": "markdown",
      "metadata": {
        "id": "view-in-github",
        "colab_type": "text"
      },
      "source": [
        "<a href=\"https://colab.research.google.com/github/GabCam23/CPEN65-1/blob/main/Stacks_and_Queues.ipynb\" target=\"_parent\"><img src=\"https://colab.research.google.com/assets/colab-badge.svg\" alt=\"Open In Colab\"/></a>"
      ]
    },
    {
      "cell_type": "code",
      "execution_count": 10,
      "metadata": {
        "colab": {
          "base_uri": "https://localhost:8080/"
        },
        "id": "AiMBpWI5CW4C",
        "outputId": "eeeda80e-7d14-4137-a380-3b325d0e3b09"
      },
      "outputs": [
        {
          "output_type": "stream",
          "name": "stdout",
          "text": [
            "['A', 'B', 'C']\n",
            "['A']\n"
          ]
        }
      ],
      "source": [
        "class Stack:            #LIFO\n",
        "  def __init__(self):\n",
        "    self.stack = []        #stack implementation using OOP concepts\n",
        "\n",
        "  def push(self,dataval):\n",
        "    if dataval not in self.stack:\n",
        "      return self.stack.append(dataval)\n",
        "    else: \n",
        "      return False\n",
        "  def pop(self):\n",
        "    if len(self.stack)<=0:\n",
        "      return (\"No element in the stock\")\n",
        "    else:\n",
        "      return self.stack.pop()\n",
        "\n",
        "AStack = Stack()\n",
        "AStack.push(\"A\")\n",
        "AStack.push(\"B\")\n",
        "AStack.push(\"C\")\n",
        "print(AStack.stack)\n",
        "AStack.pop()\n",
        "AStack.pop()\n",
        "print(AStack.stack)"
      ]
    },
    {
      "cell_type": "code",
      "source": [
        "#Application 1\n",
        "#Implement the above profram by Queues and Data Structure (enqueue and dequeue/FIFO)\n",
        "class Queues:           \n",
        "  def __init__(self):\n",
        "    self.queues = []        \n",
        "  def push(self,dataval):\n",
        "    if dataval not in self.queues:\n",
        "      return self.queues.append(dataval)\n",
        "    else: \n",
        "      return False\n",
        "  def pop(self):\n",
        "    if len(self.queues)<=0:\n",
        "      return (\"No element in the stock\")\n",
        "    else:\n",
        "      return self.queues.pop(0)\n",
        "\n",
        "AQueue = Queues()\n",
        "AQueue.push(\"A\")\n",
        "AQueue.push(\"B\")\n",
        "AQueue.push(\"C\")\n",
        "AQueue.push(\"D\")\n",
        "AQueue.push(\"E\")\n",
        "AQueue.push(\"F\")\n",
        "AQueue.push(\"G\")\n",
        "print(AQueue.queues)\n",
        "AQueue.pop()\n",
        "AQueue.pop()\n",
        "AQueue.pop()\n",
        "print(AQueue.queues)\n"
      ],
      "metadata": {
        "colab": {
          "base_uri": "https://localhost:8080/"
        },
        "id": "Vd_tcZZJC3Mi",
        "outputId": "e24724c7-292a-41be-8a33-2d575647b751"
      },
      "execution_count": 16,
      "outputs": [
        {
          "output_type": "stream",
          "name": "stdout",
          "text": [
            "['A', 'B', 'C', 'D', 'E', 'F', 'G']\n",
            "['D', 'E', 'F', 'G']\n"
          ]
        }
      ]
    }
  ]
}