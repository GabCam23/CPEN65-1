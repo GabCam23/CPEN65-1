{
  "nbformat": 4,
  "nbformat_minor": 0,
  "metadata": {
    "colab": {
      "provenance": [],
      "authorship_tag": "ABX9TyPNu9/5T5mASHdeSaZ826lx",
      "include_colab_link": true
    },
    "kernelspec": {
      "name": "python3",
      "display_name": "Python 3"
    },
    "language_info": {
      "name": "python"
    }
  },
  "cells": [
    {
      "cell_type": "markdown",
      "metadata": {
        "id": "view-in-github",
        "colab_type": "text"
      },
      "source": [
        "<a href=\"https://colab.research.google.com/github/GabCam23/CPEN65-1/blob/main/Camandono%2CGabriel_MidtermExam.ipynb\" target=\"_parent\"><img src=\"https://colab.research.google.com/assets/colab-badge.svg\" alt=\"Open In Colab\"/></a>"
      ]
    },
    {
      "cell_type": "markdown",
      "source": [
        "1.\tWrite a Python program to create an array of 10 integers and display the array items. Access individual elements through indexes and compute for the sum."
      ],
      "metadata": {
        "id": "R1TO-GdzUzDv"
      }
    },
    {
      "cell_type": "code",
      "execution_count": null,
      "metadata": {
        "id": "uxjIHA0SS3kb",
        "colab": {
          "base_uri": "https://localhost:8080/"
        },
        "outputId": "3788d1de-9ce0-49a2-b4c0-7e3bb07931e9"
      },
      "outputs": [
        {
          "output_type": "stream",
          "name": "stdout",
          "text": [
            "0 10\n",
            "1 11\n",
            "2 12\n",
            "3 13\n",
            "4 14\n",
            "5 15\n",
            "6 16\n",
            "7 17\n",
            "8 18\n",
            "9 19\n",
            "145\n"
          ]
        }
      ],
      "source": [
        "numbers = [10,11,12,13,14,15,16,17,18,19]\n",
        "for index, val in enumerate(numbers):\n",
        "  print(index,val)\n",
        "print(sum(numbers))"
      ]
    },
    {
      "cell_type": "markdown",
      "source": [
        "2.\tWrite a Python program to append a new item to the end of the array. Original array: numbers = [1, 2, 3, 4, 5, 6, 7, 8, 9, 10]"
      ],
      "metadata": {
        "id": "SP4ewcpFaVgT"
      }
    },
    {
      "cell_type": "code",
      "source": [
        "numbers = [1, 2, 3, 4, 5, 6, 7, 8, 9, 10]\n",
        "numbers.append(11)\n",
        "print(numbers)"
      ],
      "metadata": {
        "colab": {
          "base_uri": "https://localhost:8080/"
        },
        "id": "o06L5WKRaYnH",
        "outputId": "666053d6-2def-4aec-a55f-eb4ffccb99c8"
      },
      "execution_count": null,
      "outputs": [
        {
          "output_type": "stream",
          "name": "stdout",
          "text": [
            "[1, 2, 3, 4, 5, 6, 7, 8, 9, 10, 11]\n"
          ]
        }
      ]
    },
    {
      "cell_type": "markdown",
      "source": [
        "3.\tWrite a Python program to insert a new item before the last element in an existing array. Original array: numbers = [1, 2, 3, 4, 5, 6, 7, 8, 9, 10]"
      ],
      "metadata": {
        "id": "z0WcTR95a4Nr"
      }
    },
    {
      "cell_type": "code",
      "source": [
        "numbers = [1, 2, 3, 4, 5, 6, 7, 8, 9, 10]\n",
        "numbers.insert(-1,9.5)\n",
        "print(numbers)"
      ],
      "metadata": {
        "colab": {
          "base_uri": "https://localhost:8080/"
        },
        "id": "CQasMO6ja7mz",
        "outputId": "bf6d7570-9eb2-43f7-c505-d19481b7393d"
      },
      "execution_count": null,
      "outputs": [
        {
          "output_type": "stream",
          "name": "stdout",
          "text": [
            "[1, 2, 3, 4, 5, 6, 7, 8, 9, 9.5, 10]\n"
          ]
        }
      ]
    },
    {
      "cell_type": "markdown",
      "source": [
        "4.\tWrite a Python program to reverse the order of the items in the array. Original array: numbers = [1, 2, 3, 4, 5]"
      ],
      "metadata": {
        "id": "QjQ42SB-binC"
      }
    },
    {
      "cell_type": "code",
      "source": [
        "numbers = [1, 2, 3, 4, 5]\n",
        "numbers.reverse()\n",
        "print(numbers)"
      ],
      "metadata": {
        "colab": {
          "base_uri": "https://localhost:8080/"
        },
        "id": "JD_8lWfSbjmn",
        "outputId": "cc8cdc7c-bbc3-4190-d1c6-0b33f65862fc"
      },
      "execution_count": null,
      "outputs": [
        {
          "output_type": "stream",
          "name": "stdout",
          "text": [
            "[5, 4, 3, 2, 1]\n"
          ]
        }
      ]
    },
    {
      "cell_type": "markdown",
      "source": [
        "5.\tLet A be an array of size n ≥ 2 containing integers from 1 to n−1, inclusive, with exactly one repeated. Create an algorithm for finding the integer in A that is repeated."
      ],
      "metadata": {
        "id": "p3wIYhkPd4PH"
      }
    },
    {
      "cell_type": "code",
      "source": [
        "def repeatednumber(a, n):\n",
        "    a.sort()\n",
        "    for b in range(1, n):\n",
        "        if(a[b] != b+1):\n",
        "            return a[b]\n",
        " \n",
        "if __name__ == \"__main__\":\n",
        "  a = [7,4,8,10,3,1,5,2,7,9,6]\n",
        "  n = len(a)\n",
        " \n",
        "print(repeatednumber(a,n))"
      ],
      "metadata": {
        "colab": {
          "base_uri": "https://localhost:8080/"
        },
        "id": "gDAJpczhd3uR",
        "outputId": "960e0f40-7e06-49b5-b7a3-fe9c0a5faf13"
      },
      "execution_count": 6,
      "outputs": [
        {
          "output_type": "stream",
          "name": "stdout",
          "text": [
            "7\n"
          ]
        }
      ]
    }
  ]
}