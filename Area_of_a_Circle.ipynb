{
  "nbformat": 4,
  "nbformat_minor": 0,
  "metadata": {
    "colab": {
      "provenance": [],
      "authorship_tag": "ABX9TyPtcc1rRdRUIBh1U99x5EjI",
      "include_colab_link": true
    },
    "kernelspec": {
      "name": "python3",
      "display_name": "Python 3"
    },
    "language_info": {
      "name": "python"
    }
  },
  "cells": [
    {
      "cell_type": "markdown",
      "metadata": {
        "id": "view-in-github",
        "colab_type": "text"
      },
      "source": [
        "<a href=\"https://colab.research.google.com/github/GabCam23/CPEN65-1/blob/main/Area_of_a_Circle.ipynb\" target=\"_parent\"><img src=\"https://colab.research.google.com/assets/colab-badge.svg\" alt=\"Open In Colab\"/></a>"
      ]
    },
    {
      "cell_type": "code",
      "execution_count": null,
      "metadata": {
        "colab": {
          "base_uri": "https://localhost:8080/"
        },
        "id": "mB9Qtd-J1bPT",
        "outputId": "717e116f-61ae-44cd-f6f5-790fd5db474a"
      },
      "outputs": [
        {
          "output_type": "stream",
          "name": "stdout",
          "text": [
            "Enter the radius of circle:4\n",
            "The area of the circle = 50.24\n"
          ]
        }
      ],
      "source": [
        "π = 3.14\n",
        "r = float(input(\"Enter the radius of circle:\"))\n",
        "\n",
        "area = π*r**2\n",
        "\n",
        "\n",
        "print(\"The area of the circle = %0.2f\" %area)"
      ]
    }
  ]
}